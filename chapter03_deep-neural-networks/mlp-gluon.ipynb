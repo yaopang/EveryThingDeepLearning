{
 "cells": [
  {
   "cell_type": "markdown",
   "metadata": {},
   "source": [
    "# Multilayer perceptrons in `gluon`\n",
    "\n",
    "Building a multilayer perceptron to classify MNIST images with `gluon` is not much harder\n",
    "than [implementing softmax regression with `gluon`](../chapter02_supervised-learning/softmax-regression-gluon.ipynb), like we did in Chapter 2.\n",
    "In that chapter, our entire neural network consisted \n",
    "of one Dense layer (`net = gluon.nn.Dense(num_outputs)`).\n",
    "\n",
    "In this chapter, we're going to show you \n",
    "how to compose multiple layers together \n",
    "into a neural network.\n",
    "There are two main ways to do this in Gluon and we'll walk through both. \n",
    "The first is to define a custom `Block`.\n",
    "In Gluon, everything is a Block! \n",
    "Layers, losses, whole networks, they're all blocks!\n",
    "So naturally, that's a flexible way to do nearly anything you want. \n",
    "\n",
    "We'll also make use of `gluon.nn.Sequential`.\n",
    "Sequential gives us a special way of rapidly building networks\n",
    "when follow a common design pattern: they look like a stack of pancakes.\n",
    "Many networks follow this pattern:\n",
    "a bunch of layers, one stacked on top of another,\n",
    "where the output of each layer is the input to the next layer.\n",
    "Sequential just takes a list of layers (we pass them in by calling `net.add(<Layer goes here!>)`.\n",
    "The following unnecessary picture should give you an intuitive sense of when to (and not to) use sequential.\n",
    "\n",
    "![](../img/sequential-not-sequential-layers.png)\n"
   ]
  },
  {
   "cell_type": "markdown",
   "metadata": {},
   "source": [
    "## Imports\n",
    "First we'll import the necessary bits."
   ]
  },
  {
   "cell_type": "code",
   "execution_count": 52,
   "metadata": {
    "collapsed": true
   },
   "outputs": [],
   "source": [
    "from __future__ import print_function\n",
    "import numpy as np\n",
    "import mxnet as mx\n",
    "from mxnet import nd, autograd, gluon"
   ]
  },
  {
   "cell_type": "markdown",
   "metadata": {},
   "source": [
    "We'll also want to set the contexts for our data and our models."
   ]
  },
  {
   "cell_type": "code",
   "execution_count": 53,
   "metadata": {
    "collapsed": true
   },
   "outputs": [],
   "source": [
    "data_ctx = mx.cpu()\n",
    "model_ctx = mx.cpu()\n",
    "# model_ctx = mx.gpu(0)"
   ]
  },
  {
   "cell_type": "markdown",
   "metadata": {},
   "source": [
    "## The MNIST dataset"
   ]
  },
  {
   "cell_type": "code",
   "execution_count": 54,
   "metadata": {
    "collapsed": true
   },
   "outputs": [],
   "source": [
    "batch_size = 64\n",
    "num_inputs = 784\n",
    "num_outputs = 10\n",
    "num_examples = 60000\n",
    "def transform(data, label):\n",
    "    return data.astype(np.float32)/255, label.astype(np.float32)\n",
    "train_data = mx.gluon.data.DataLoader(mx.gluon.data.vision.MNIST(train=True, transform=transform),\n",
    "                                      batch_size, shuffle=True)\n",
    "test_data = mx.gluon.data.DataLoader(mx.gluon.data.vision.MNIST(train=False, transform=transform),\n",
    "                                     batch_size, shuffle=False)"
   ]
  },
  {
   "cell_type": "markdown",
   "metadata": {},
   "source": [
    "## Define the model with `gluon.Block`\n",
    "\n",
    "Now instead of having one `gluon.nn.Dense` layer, we'll want to compose several together. \n",
    "First let's go through the most fundamental way of doing this. Then we'll introduce some shortcuts.\n",
    "In `gluon` a Block has one main job - define a `forward` method that takes some NDArray input `x` and generates an NDArray output. \n",
    "Because the output and input are related to each other via NDArray operations, MXNet can take derivatives through the block automatically. \n",
    "A Block can just do something simple like apply an activation function. \n",
    "But it can also combine a bunch of other Blocks together in creative ways.\n",
    "In this case, we'll just want to instantiate three Dense layers. \n",
    "The forward can then invoke the layers in turn to generate its output. "
   ]
  },
  {
   "cell_type": "code",
   "execution_count": 55,
   "metadata": {
    "collapsed": true
   },
   "outputs": [],
   "source": [
    "class MLP(gluon.Block):\n",
    "    def __init__(self, **kwargs):\n",
    "        super(MLP, self).__init__(**kwargs)\n",
    "        with self.name_scope():\n",
    "            self.dense0 = gluon.nn.Dense(64)\n",
    "            self.dense1 = gluon.nn.Dense(64)\n",
    "            self.dense2 = gluon.nn.Dense(10)\n",
    "        \n",
    "    def forward(self, x):\n",
    "        x = nd.relu(self.dense0(x))\n",
    "        x = nd.relu(self.dense1(x))\n",
    "        x = self.dense2(x)\n",
    "        return x"
   ]
  },
  {
   "cell_type": "markdown",
   "metadata": {},
   "source": [
    "We can now instantiate a multilayer perceptron using our MLP class.\n",
    "And just as with any other block, we can grab its parameters with `collect_params` and initialize them."
   ]
  },
  {
   "cell_type": "code",
   "execution_count": 56,
   "metadata": {
    "collapsed": true
   },
   "outputs": [],
   "source": [
    "net = MLP()\n",
    "net.collect_params().initialize(mx.init.Normal(sigma=.01), ctx=model_ctx)"
   ]
  },
  {
   "cell_type": "markdown",
   "metadata": {},
   "source": [
    "And we can synthesize some gibberish data just to demonstrate one forward pass through the network. "
   ]
  },
  {
   "cell_type": "code",
   "execution_count": 57,
   "metadata": {},
   "outputs": [
    {
     "data": {
      "text/plain": [
       "\n",
       "[[  4.40923759e-05  -8.20533780e-04   9.26479988e-04   8.04695825e-04\n",
       "   -7.55993300e-04  -6.38230820e-04   5.50494005e-05  -1.17325678e-03\n",
       "    7.58020557e-04   2.63349182e-04]]\n",
       "<NDArray 1x10 @gpu(0)>"
      ]
     },
     "execution_count": 57,
     "metadata": {},
     "output_type": "execute_result"
    }
   ],
   "source": [
    "data = nd.ones((1,784))\n",
    "net(data.as_in_context(model_ctx))"
   ]
  },
  {
   "cell_type": "markdown",
   "metadata": {},
   "source": [
    "Because we're working with an imperative framework and not a symbolic framework, debugging Gluon Blocks is easy. If we want to see what's going on at each layer of the neural network, we can just plug in a bunch of Python print statements."
   ]
  },
  {
   "cell_type": "code",
   "execution_count": 58,
   "metadata": {},
   "outputs": [
    {
     "name": "stdout",
     "output_type": "stream",
     "text": [
      "Hidden Representation 1: \n",
      "[[ 0.          0.21691252  0.          0.33119828  0.          0.          0.\n",
      "   0.21983771  0.          0.          0.4556309   0.          0.08249515\n",
      "   0.31085208  0.04958198  0.          0.330221    0.          0.          0.\n",
      "   0.13425761  0.37306851  0.04791637  0.          0.          0.          0.\n",
      "   0.23431879  0.          0.          0.          0.0448049   0.14588076\n",
      "   0.          0.0239118   0.          0.25473717  0.03351231  0.20005098\n",
      "   0.          0.          0.00603895  0.10416938  0.10464748  0.23973437\n",
      "   0.          0.33381382  0.          0.24913697  0.29079285  0.12793788\n",
      "   0.29657096  0.07166591  0.          0.43335861  0.32743987  0.          0.\n",
      "   0.          0.          0.04985283  0.10861691  0.          0.        ]]\n",
      "<NDArray 1x64 @gpu(0)>\n",
      "Hidden Representation 2: \n",
      "[[ 0.          0.          0.01573334  0.          0.          0.02613701\n",
      "   0.00248956  0.          0.          0.02152583  0.          0.\n",
      "   0.01183741  0.00089611  0.00513365  0.00952989  0.          0.          0.\n",
      "   0.00989626  0.          0.00950431  0.          0.          0.\n",
      "   0.01269766  0.00485498  0.          0.          0.00033371  0.00123863\n",
      "   0.02299101  0.          0.01520418  0.          0.00365212  0.00016546\n",
      "   0.00049757  0.00220794  0.          0.01853371  0.02050827  0.00796316\n",
      "   0.02365419  0.          0.          0.          0.          0.00056281\n",
      "   0.          0.0158518   0.00588764  0.02745012  0.02089521  0.02061545\n",
      "   0.01254779  0.00096457  0.          0.00426208  0.          0.          0.\n",
      "   0.00827779  0.00288925]]\n",
      "<NDArray 1x64 @gpu(0)>\n",
      "Network output: \n",
      "[[  8.51602003e-04   4.21012577e-04  -3.94555100e-05   4.91072249e-04\n",
      "   -2.73533806e-05  -9.80906654e-04  -2.85841583e-04  -1.03790930e-03\n",
      "   -5.04873577e-04   7.01223849e-04]]\n",
      "<NDArray 1x10 @gpu(0)>\n"
     ]
    },
    {
     "data": {
      "text/plain": [
       "\n",
       "[[  8.51602003e-04   4.21012577e-04  -3.94555100e-05   4.91072249e-04\n",
       "   -2.73533806e-05  -9.80906654e-04  -2.85841583e-04  -1.03790930e-03\n",
       "   -5.04873577e-04   7.01223849e-04]]\n",
       "<NDArray 1x10 @gpu(0)>"
      ]
     },
     "execution_count": 58,
     "metadata": {},
     "output_type": "execute_result"
    }
   ],
   "source": [
    "class MLP(gluon.Block):\n",
    "    def __init__(self, **kwargs):\n",
    "        super(MLP, self).__init__(**kwargs)\n",
    "        with self.name_scope():\n",
    "            self.dense0 = gluon.nn.Dense(64, activation=\"relu\")\n",
    "            self.dense1 = gluon.nn.Dense(64, activation=\"relu\")\n",
    "            self.dense2 = gluon.nn.Dense(10)\n",
    "        \n",
    "    def forward(self, x):\n",
    "        x = self.dense0(x)\n",
    "        print(\"Hidden Representation 1: %s\" % x)\n",
    "        x = self.dense1(x)\n",
    "        print(\"Hidden Representation 2: %s\" % x)\n",
    "        x = self.dense2(x)\n",
    "        print(\"Network output: %s\" % x)\n",
    "        return x\n",
    "\n",
    "net = MLP()\n",
    "net.collect_params().initialize(mx.init.Normal(sigma=.01), ctx=model_ctx)\n",
    "net(data.as_in_context(model_ctx))"
   ]
  },
  {
   "cell_type": "markdown",
   "metadata": {},
   "source": [
    "# Faster modeling with `gluon.nn.Sequential`\n",
    "\n",
    "MLPs, like many deep neural networks follow a pretty boring architecture. \n",
    "Just take a list of the layers, chain them together, and return the output.\n",
    "There's no reason why we have to actually define a new class every time we want to do this. \n",
    "Gluon's `Sequential` class provides a nice way of rapidly implementing this standard network architecture.\n",
    "We just \n",
    "\n",
    "* Instantiate a Sequential (let's call it `net`) \n",
    "* Add a bunch of layers to it using `net.add(...)`\n",
    "\n",
    "Sequential assumes that the layers arrive bottom to top (with input at the very bottom).\n",
    "We could implement the same architecture as shown above using sequential in just 6 lines."
   ]
  },
  {
   "cell_type": "code",
   "execution_count": 59,
   "metadata": {
    "collapsed": true
   },
   "outputs": [],
   "source": [
    "num_hidden = 64\n",
    "net = gluon.nn.Sequential()\n",
    "with net.name_scope():\n",
    "    net.add(gluon.nn.Dense(num_hidden, activation=\"relu\"))\n",
    "    net.add(gluon.nn.Dense(num_hidden, activation=\"relu\"))\n",
    "    net.add(gluon.nn.Dense(num_outputs))"
   ]
  },
  {
   "cell_type": "markdown",
   "metadata": {},
   "source": [
    "## Parameter initialization\n"
   ]
  },
  {
   "cell_type": "code",
   "execution_count": 60,
   "metadata": {
    "collapsed": true
   },
   "outputs": [],
   "source": [
    "net.collect_params().initialize(mx.init.Normal(sigma=.1), ctx=model_ctx)"
   ]
  },
  {
   "cell_type": "markdown",
   "metadata": {},
   "source": [
    "## Softmax cross-entropy loss"
   ]
  },
  {
   "cell_type": "code",
   "execution_count": 61,
   "metadata": {
    "collapsed": true
   },
   "outputs": [],
   "source": [
    "softmax_cross_entropy = gluon.loss.SoftmaxCrossEntropyLoss()"
   ]
  },
  {
   "cell_type": "markdown",
   "metadata": {},
   "source": [
    "## Optimizer"
   ]
  },
  {
   "cell_type": "code",
   "execution_count": 62,
   "metadata": {
    "collapsed": true
   },
   "outputs": [],
   "source": [
    "trainer = gluon.Trainer(net.collect_params(), 'sgd', {'learning_rate': .01})"
   ]
  },
  {
   "cell_type": "markdown",
   "metadata": {},
   "source": [
    "## Evaluation metric"
   ]
  },
  {
   "cell_type": "code",
   "execution_count": 63,
   "metadata": {
    "collapsed": true
   },
   "outputs": [],
   "source": [
    "def evaluate_accuracy(data_iterator, net):\n",
    "    acc = mx.metric.Accuracy()\n",
    "    for i, (data, label) in enumerate(data_iterator):\n",
    "        data = data.as_in_context(model_ctx).reshape((-1, 784))\n",
    "        label = label.as_in_context(model_ctx)\n",
    "        output = net(data)\n",
    "        predictions = nd.argmax(output, axis=1)\n",
    "        acc.update(preds=predictions, labels=label)\n",
    "    return acc.get()[1]"
   ]
  },
  {
   "cell_type": "markdown",
   "metadata": {},
   "source": [
    "## Training loop"
   ]
  },
  {
   "cell_type": "code",
   "execution_count": 64,
   "metadata": {},
   "outputs": [
    {
     "name": "stdout",
     "output_type": "stream",
     "text": [
      "Epoch 0. Loss: 1.27231270386, Train_acc 0.836933333333, Test_acc 0.846\n",
      "Epoch 1. Loss: 0.477833755287, Train_acc 0.881066666667, Test_acc 0.8889\n",
      "Epoch 2. Loss: 0.381976018492, Train_acc 0.89735, Test_acc 0.9035\n",
      "Epoch 3. Loss: 0.33866001844, Train_acc 0.907533333333, Test_acc 0.9125\n",
      "Epoch 4. Loss: 0.309403327727, Train_acc 0.913033333333, Test_acc 0.9165\n",
      "Epoch 5. Loss: 0.285777178836, Train_acc 0.92025, Test_acc 0.9219\n",
      "Epoch 6. Loss: 0.266318054875, Train_acc 0.925, Test_acc 0.9281\n",
      "Epoch 7. Loss: 0.249801190837, Train_acc 0.931183333333, Test_acc 0.9323\n",
      "Epoch 8. Loss: 0.235263404306, Train_acc 0.935483333333, Test_acc 0.9357\n",
      "Epoch 9. Loss: 0.222571320128, Train_acc 0.9379, Test_acc 0.936\n"
     ]
    }
   ],
   "source": [
    "epochs = 10\n",
    "smoothing_constant = .01\n",
    "\n",
    "for e in range(epochs):\n",
    "    cumulative_loss = 0\n",
    "    for i, (data, label) in enumerate(train_data):\n",
    "        data = data.as_in_context(model_ctx).reshape((-1, 784))\n",
    "        label = label.as_in_context(model_ctx)\n",
    "        with autograd.record():\n",
    "            output = net(data)\n",
    "            loss = softmax_cross_entropy(output, label)\n",
    "        loss.backward()\n",
    "        trainer.step(data.shape[0])\n",
    "        cumulative_loss += nd.sum(loss).asscalar()\n",
    "\n",
    "\n",
    "    test_accuracy = evaluate_accuracy(test_data, net)\n",
    "    train_accuracy = evaluate_accuracy(train_data, net)\n",
    "    print(\"Epoch %s. Loss: %s, Train_acc %s, Test_acc %s\" %\n",
    "          (e, cumulative_loss/num_examples, train_accuracy, test_accuracy))"
   ]
  },
  {
   "cell_type": "markdown",
   "metadata": {},
   "source": [
    "## Conclusion\n",
    "\n",
    "In this chapter, we showed two ways to build multilayer perceptrons with Gluon. We demonstrated how to subclass `gluon.Block`, and define your own forward passes. We also showed how you might debug your network by lacing your forward pass with print statements. Finally, we showed how you could define and instantiate an equivalent network with just 6 lines of code by using `gluon.nn.Sequential`. Now that you understand the basics, you're ready to leap ahead. If you're following the book in order, then the next stop will be [dropout regularization](../chapter03_deep-neural-networks/mlp-dropout-scratch.ipynb). Other possible choices would be to start leanring about [convolutional neural networks](../chapter04_convolutional-neural-networks/cnn-scratch.ipynb) which are especialy handy for working with images, or [recurrent neural networks](../chapter05_recurrent-neural-networks/simple-rnn.ipynb), which are especially useful for natural language processing."
   ]
  },
  {
   "cell_type": "markdown",
   "metadata": {},
   "source": [
    "## Next\n",
    "[Dropout regularization from scratch](../chapter03_deep-neural-networks/mlp-dropout-scratch.ipynb)"
   ]
  },
  {
   "cell_type": "markdown",
   "metadata": {},
   "source": [
    "For whinges or inquiries, [open an issue on  GitHub.](https://github.com/zackchase/mxnet-the-straight-dope)"
   ]
  }
 ],
 "metadata": {
  "kernelspec": {
   "display_name": "Python 3",
   "language": "python",
   "name": "python3"
  },
  "language_info": {
   "codemirror_mode": {
    "name": "ipython",
    "version": 3
   },
   "file_extension": ".py",
   "mimetype": "text/x-python",
   "name": "python",
   "nbconvert_exporter": "python",
   "pygments_lexer": "ipython3",
   "version": "3.5.2"
  },
  "widgets": {
   "state": {},
   "version": "1.1.2"
  }
 },
 "nbformat": 4,
 "nbformat_minor": 2
}
